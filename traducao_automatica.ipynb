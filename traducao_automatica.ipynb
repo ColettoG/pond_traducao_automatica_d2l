{
  "nbformat": 4,
  "nbformat_minor": 5,
  "metadata": {
    "kernelspec": {
      "display_name": "Python 3",
      "name": "python3"
    },
    "language_info": {
      "name": "python",
      "version": "3.11"
    },
    "colab": {
      "provenance": [],
      "gpuType": "T4"
    },
    "accelerator": "GPU"
  },
  "cells": [
    {
      "cell_type": "markdown",
      "metadata": {
        "id": "qWz7yVqzJFS_"
      },
      "source": [
        "# D2L 9.5 — Traducão Automática\n",
        "\n",
        "Este notebook é **autossuficiente** para o Google Colab (ou local):\n",
        "1. Baixa e extrai `fra-eng.zip` com **retries**.\n",
        "2. Pré-processa, tokeniza (palavras), constrói vocabulários, faz padding.\n",
        "3. Implementa **Seq2Seq** com GRU e **Atenção de Bahdanau** (com **máscara** de `<pad>`).\n",
        "4. Treina e valida registrando **Loss**, **Token Accuracy** e **BLEU-4**; gera **gráficos**.\n",
        "5. Faz **inferência** em frases de exemplo.\n",
        "\n",
        "> Ajuste `NUM_EXAMPLES`, `EPOCHS` e tamanhos de rede para melhor qualidade quando houver GPU/tempo.\n"
      ],
      "id": "qWz7yVqzJFS_"
    },
    {
      "cell_type": "markdown",
      "metadata": {
        "id": "h-ePOqkTJFTB"
      },
      "source": [
        "## 0) Imports e utilitários básicos"
      ],
      "id": "h-ePOqkTJFTB"
    },
    {
      "cell_type": "code",
      "metadata": {
        "colab": {
          "base_uri": "https://localhost:8080/"
        },
        "id": "v-L7_b-dJFTC",
        "outputId": "a86e32fd-ceb4-42d7-cf5e-98c2798cdb6a"
      },
      "execution_count": 15,
      "outputs": [
        {
          "output_type": "stream",
          "name": "stdout",
          "text": [
            "PyTorch: 2.8.0+cu126 | Device: cuda\n"
          ]
        }
      ],
      "source": [
        "import os, io, zipfile, time, math, random, collections, itertools\n",
        "from typing import List, Tuple\n",
        "import requests\n",
        "import numpy as np\n",
        "import torch\n",
        "import torch.nn as nn\n",
        "import torch.nn.functional as F\n",
        "from torch.utils.data import Dataset, DataLoader, random_split\n",
        "import matplotlib.pyplot as plt\n",
        "\n",
        "DEVICE = torch.device('cuda' if torch.cuda.is_available() else 'cpu')\n",
        "print('PyTorch:', torch.__version__, '| Device:', DEVICE)"
      ],
      "id": "v-L7_b-dJFTC"
    },
    {
      "cell_type": "markdown",
      "metadata": {
        "id": "Ry9gHHfpJFTC"
      },
      "source": [
        "## 1) Download & extração do dataset (robusto)"
      ],
      "id": "Ry9gHHfpJFTC"
    },
    {
      "cell_type": "code",
      "metadata": {
        "colab": {
          "base_uri": "https://localhost:8080/"
        },
        "id": "exg7c3FsJFTD",
        "outputId": "c54bfed9-e130-4c08-d48b-ad265e063edb"
      },
      "execution_count": 16,
      "outputs": [
        {
          "output_type": "stream",
          "name": "stdout",
          "text": [
            "OK: /content/data/fra.txt já existe.\n",
            "Diretório de dados: /content/data\n"
          ]
        }
      ],
      "source": [
        "def is_colab():\n",
        "    try:\n",
        "        import google.colab  # type: ignore\n",
        "        return True\n",
        "    except Exception:\n",
        "        return False\n",
        "\n",
        "BASE_DIR = '/content' if is_colab() else os.getcwd()\n",
        "DATA_DIR = os.path.join(BASE_DIR, 'data')\n",
        "os.makedirs(DATA_DIR, exist_ok=True)\n",
        "\n",
        "ZIP_NAME = 'fra-eng.zip'\n",
        "TXT_NAME = 'fra.txt'\n",
        "ZIP_PATH = os.path.join(DATA_DIR, ZIP_NAME)\n",
        "TXT_PATH = os.path.join(DATA_DIR, TXT_NAME)\n",
        "\n",
        "MIRRORS = [\n",
        "    'https://d2l-data.s3-accelerate.amazonaws.com/fra-eng.zip',\n",
        "    'https://d2l-data.s3.amazonaws.com/fra-eng.zip',\n",
        "    'http://d2l-data.s3-accelerate.amazonaws.com/fra-eng.zip'\n",
        "]\n",
        "\n",
        "def download_with_retries(urls, dest_path, max_retries=3, timeout=30):\n",
        "    last_err = None\n",
        "    for url in urls:\n",
        "        for attempt in range(1, max_retries+1):\n",
        "            try:\n",
        "                print(f'Baixando: {url} (tentativa {attempt}/{max_retries})')\n",
        "                with requests.get(url, stream=True, timeout=timeout) as r:\n",
        "                    r.raise_for_status()\n",
        "                    total = int(r.headers.get('content-length', 0))\n",
        "                    downloaded = 0\n",
        "                    with open(dest_path, 'wb') as f:\n",
        "                        for chunk in r.iter_content(chunk_size=1024*256):\n",
        "                            if chunk:\n",
        "                                f.write(chunk)\n",
        "                                downloaded += len(chunk)\n",
        "                                if total:\n",
        "                                    pct = downloaded * 100 / total\n",
        "                                    print(f'\\r  {downloaded/1e6:.2f}MB / {total/1e6:.2f}MB ({pct:.1f}%)', end='')\n",
        "                print('\\nDownload concluído.')\n",
        "                return dest_path\n",
        "            except Exception as e:\n",
        "                last_err = e\n",
        "                wait = 2 ** attempt\n",
        "                print(f'Falhou: {e}. Aguardando {wait}s e tentando novamente...')\n",
        "                time.sleep(wait)\n",
        "        print('Trocar de espelho...')\n",
        "    raise RuntimeError(f'Falha ao baixar após {max_retries} tentativas por espelho. Último erro: {last_err}')\n",
        "\n",
        "def ensure_fra_txt():\n",
        "    if os.path.exists(TXT_PATH):\n",
        "        print(f'OK: {TXT_PATH} já existe.')\n",
        "        return TXT_PATH\n",
        "    if not os.path.exists(ZIP_PATH):\n",
        "        download_with_retries(MIRRORS, ZIP_PATH)\n",
        "    with zipfile.ZipFile(ZIP_PATH, 'r') as zf:\n",
        "        zf.extractall(DATA_DIR)\n",
        "    if not os.path.exists(TXT_PATH):\n",
        "        for root, _, files in os.walk(DATA_DIR):\n",
        "            if TXT_NAME in files:\n",
        "                found = os.path.join(root, TXT_NAME)\n",
        "                if found != TXT_PATH:\n",
        "                    os.replace(found, TXT_PATH)\n",
        "                break\n",
        "    assert os.path.exists(TXT_PATH), f'{TXT_PATH} não encontrado após extração.'\n",
        "    print(f'OK: {TXT_PATH} pronto.')\n",
        "    return TXT_PATH\n",
        "\n",
        "# Garantir o arquivo agora\n",
        "ensure_fra_txt()\n",
        "print('Diretório de dados:', DATA_DIR)"
      ],
      "id": "exg7c3FsJFTD"
    },
    {
      "cell_type": "markdown",
      "metadata": {
        "id": "VhG8BFIUJFTE"
      },
      "source": [
        "## 2) Pré-processamento, tokenização, vocabulários e DataLoader"
      ],
      "id": "VhG8BFIUJFTE"
    },
    {
      "cell_type": "code",
      "metadata": {
        "colab": {
          "base_uri": "https://localhost:8080/"
        },
        "id": "dTs_6drcJFTF",
        "outputId": "f3b6a7fe-7a9b-420d-b233-b0cdd721ffb6"
      },
      "execution_count": 17,
      "outputs": [
        {
          "output_type": "stream",
          "name": "stdout",
          "text": [
            "Shapes X/Y: (2, 8) (2, 8)\n"
          ]
        }
      ],
      "source": [
        "def read_data_nmt(path=TXT_PATH):\n",
        "    with open(path, 'r', encoding='utf-8') as f:\n",
        "        return f.read()\n",
        "\n",
        "def preprocess_nmt(text: str) -> str:\n",
        "    def no_space(char, prev_char):\n",
        "        return char in {',', '.', '!', '?'} and prev_char != ' '\n",
        "    text = text.replace('\\u202f', ' ').replace('\\xa0', ' ').lower()\n",
        "    out = [' ' + c if i > 0 and no_space(c, text[i-1]) else c for i, c in enumerate(text)]\n",
        "    return ''.join(out)\n",
        "\n",
        "def tokenize_nmt(text: str, num_examples: int | None = None):\n",
        "    source, target = [], []\n",
        "    for i, line in enumerate(text.split('\\n')):\n",
        "        if num_examples is not None and i >= num_examples:\n",
        "            break\n",
        "        parts = line.strip().split('\\t')\n",
        "        if len(parts) == 2:\n",
        "            source.append(parts[0].split(' '))\n",
        "            target.append(parts[1].split(' '))\n",
        "    return source, target\n",
        "\n",
        "class Vocab:\n",
        "    def __init__(self, tokens, min_freq: int = 2, reserved_tokens=None):\n",
        "        if reserved_tokens is None:\n",
        "            reserved_tokens = []\n",
        "        counter = collections.Counter(itertools.chain.from_iterable(tokens))\n",
        "        self.pad_token = '<pad>'\n",
        "        self.bos_token = '<bos>'\n",
        "        self.eos_token = '<eos>'\n",
        "        specials = [self.pad_token, self.bos_token, self.eos_token, '<unk>']\n",
        "        reserved = [t for t in reserved_tokens if t not in specials]\n",
        "        self.idx_to_token = specials + reserved\n",
        "        for token, freq in counter.items():\n",
        "            if freq >= min_freq and token not in self.idx_to_token:\n",
        "                self.idx_to_token.append(token)\n",
        "        self.token_to_idx = {t:i for i,t in enumerate(self.idx_to_token)}\n",
        "    def __len__(self):\n",
        "        return len(self.idx_to_token)\n",
        "    def __getitem__(self, tokens):\n",
        "        if isinstance(tokens, list):\n",
        "            return [self.token_to_idx.get(t, self.token_to_idx['<unk>']) for t in tokens]\n",
        "        return self.token_to_idx.get(tokens, self.token_to_idx['<unk>'])\n",
        "    def to_tokens(self, indices):\n",
        "        if isinstance(indices, list):\n",
        "            return [self.idx_to_token[i] for i in indices]\n",
        "        return self.idx_to_token[indices]\n",
        "\n",
        "def truncate_pad(indices, num_steps, padding_idx):\n",
        "    if len(indices) > num_steps:\n",
        "        return indices[:num_steps]\n",
        "    return indices + [padding_idx] * (num_steps - len(indices))\n",
        "\n",
        "def build_array_nmt(lines, vocab: Vocab, num_steps: int):\n",
        "    ids = [vocab[l] + [vocab['<eos>']] for l in lines]\n",
        "    pad_idx = vocab['<pad>']\n",
        "    array = torch.tensor([truncate_pad(seq, num_steps, pad_idx) for seq in ids])\n",
        "    valid_len = (array != pad_idx).int().sum(dim=1)\n",
        "    return array, valid_len\n",
        "\n",
        "class NMTArrayDataset(Dataset):\n",
        "    def __init__(self, X, X_valid_len, Y, Y_valid_len):\n",
        "        self.X, self.X_valid_len, self.Y, self.Y_valid_len = X, X_valid_len, Y, Y_valid_len\n",
        "    def __len__(self):\n",
        "        return self.X.shape[0]\n",
        "    def __getitem__(self, idx):\n",
        "        return (self.X[idx], self.X_valid_len[idx], self.Y[idx], self.Y_valid_len[idx])\n",
        "\n",
        "def load_data_nmt(batch_size: int, num_steps: int, num_examples: int = 600):\n",
        "    raw = read_data_nmt()\n",
        "    text = preprocess_nmt(raw)\n",
        "    source, target = tokenize_nmt(text, num_examples=num_examples)\n",
        "    src_vocab = Vocab(source, min_freq=2, reserved_tokens=['<pad>','<bos>','<eos>'])\n",
        "    tgt_vocab = Vocab(target, min_freq=2, reserved_tokens=['<pad>','<bos>','<eos>'])\n",
        "    src_array, src_valid_len = build_array_nmt(source, src_vocab, num_steps)\n",
        "    tgt_array, tgt_valid_len = build_array_nmt(target, tgt_vocab, num_steps)\n",
        "    ds = NMTArrayDataset(src_array, src_valid_len, tgt_array, tgt_valid_len)\n",
        "    iter_ = DataLoader(ds, batch_size=batch_size, shuffle=True)\n",
        "    return iter_, src_vocab, tgt_vocab\n",
        "\n",
        "# Smoke test rápido\n",
        "it_test, sv_test, tv_test = load_data_nmt(batch_size=2, num_steps=8, num_examples=50)\n",
        "batch = next(iter(it_test))\n",
        "print('Shapes X/Y:', tuple(batch[0].shape), tuple(batch[2].shape))"
      ],
      "id": "dTs_6drcJFTF"
    },
    {
      "cell_type": "markdown",
      "metadata": {
        "id": "3i1pqotKJFTF"
      },
      "source": [
        "## 3) Modelo Seq2Seq (GRU) com Atenção de Bahdanau (máscara de `<pad>`)"
      ],
      "id": "3i1pqotKJFTF"
    },
    {
      "cell_type": "code",
      "metadata": {
        "id": "Rz8UhJQ9JFTG"
      },
      "execution_count": 18,
      "outputs": [],
      "source": [
        "class Encoder(nn.Module):\n",
        "    def __init__(self, vocab_size, embed_size, hidden_size, num_layers=1, dropout=0.1, pad_idx=0):\n",
        "        super().__init__()\n",
        "        self.embedding = nn.Embedding(vocab_size, embed_size, padding_idx=pad_idx)\n",
        "        self.rnn = nn.GRU(embed_size, hidden_size, num_layers=num_layers,\n",
        "                          batch_first=True, dropout=dropout if num_layers > 1 else 0.0)\n",
        "    def forward(self, x, lengths):\n",
        "        emb = self.embedding(x)\n",
        "        packed = nn.utils.rnn.pack_padded_sequence(emb, lengths.cpu(), batch_first=True, enforce_sorted=False)\n",
        "        out_packed, h = self.rnn(packed)\n",
        "        out, _ = nn.utils.rnn.pad_packed_sequence(out_packed, batch_first=True)\n",
        "        return out, h\n",
        "\n",
        "class BahdanauAttention(nn.Module):\n",
        "    def __init__(self, enc_hidden, dec_hidden, attn_size):\n",
        "        super().__init__()\n",
        "        self.W1 = nn.Linear(enc_hidden, attn_size)\n",
        "        self.W2 = nn.Linear(dec_hidden, attn_size)\n",
        "        self.v = nn.Linear(attn_size, 1)\n",
        "    def forward(self, enc_outputs, dec_hidden, enc_mask):\n",
        "        scores = self.v(torch.tanh(self.W1(enc_outputs) + self.W2(dec_hidden).unsqueeze(1))).squeeze(-1)\n",
        "        scores = scores.masked_fill(~enc_mask, -1e9)\n",
        "        attn_weights = F.softmax(scores, dim=-1)\n",
        "        context = torch.bmm(attn_weights.unsqueeze(1), enc_outputs).squeeze(1)\n",
        "        return context, attn_weights\n",
        "\n",
        "class Decoder(nn.Module):\n",
        "    def __init__(self, vocab_size, embed_size, hidden_size, num_layers=1, dropout=0.1,\n",
        "                 pad_idx=0, use_attention=True):\n",
        "        super().__init__()\n",
        "        self.embedding = nn.Embedding(vocab_size, embed_size, padding_idx=pad_idx)\n",
        "        self.rnn = nn.GRU(embed_size + (hidden_size if use_attention else 0), hidden_size,\n",
        "                          num_layers=num_layers, batch_first=True,\n",
        "                          dropout=dropout if num_layers > 1 else 0.0)\n",
        "        self.fc = nn.Linear(hidden_size, vocab_size)\n",
        "        self.use_attention = use_attention\n",
        "        if use_attention:\n",
        "            self.attn = BahdanauAttention(hidden_size, hidden_size, attn_size=hidden_size)\n",
        "    def forward(self, y_prev, hidden, enc_outputs, enc_mask):\n",
        "        emb = self.embedding(y_prev).unsqueeze(1)\n",
        "        if self.use_attention:\n",
        "            dec_hidden_top = hidden[-1]\n",
        "            context, attn_w = self.attn(enc_outputs, dec_hidden_top, enc_mask)\n",
        "            rnn_input = torch.cat([emb, context.unsqueeze(1)], dim=-1)\n",
        "        else:\n",
        "            rnn_input = emb\n",
        "            attn_w = None\n",
        "        out, hidden = self.rnn(rnn_input, hidden)\n",
        "        logits = self.fc(out.squeeze(1))\n",
        "        return logits, hidden, attn_w\n",
        "\n",
        "class Seq2Seq(nn.Module):\n",
        "    def __init__(self, encoder, decoder, bos_idx, eos_idx, pad_idx):\n",
        "        super().__init__()\n",
        "        self.encoder = encoder\n",
        "        self.decoder = decoder\n",
        "        self.bos_idx = bos_idx\n",
        "        self.eos_idx = eos_idx\n",
        "        self.pad_idx = pad_idx\n",
        "\n",
        "    def make_src_mask(self, src_valid_len, max_len):\n",
        "        B = src_valid_len.size(0)\n",
        "        idxs = torch.arange(max_len, device=src_valid_len.device).unsqueeze(0).expand(B, max_len)\n",
        "        return (idxs < src_valid_len.unsqueeze(1))  # (B, max_len)\n",
        "\n",
        "    def forward(self, src, src_valid_len, tgt_in, teacher_forcing_ratio=1.0):\n",
        "        enc_out, enc_h = self.encoder(src, src_valid_len)          # (B, T_enc, H)\n",
        "        src_mask = self.make_src_mask(src_valid_len, enc_out.size(1))  # (B, T_enc)\n",
        "        B, T_tgt = tgt_in.shape\n",
        "        hidden = enc_h\n",
        "        y_prev = tgt_in[:, 0]  # <bos>\n",
        "        logits_all = []\n",
        "        for t in range(1, T_tgt):\n",
        "            logits_t, hidden, _ = self.decoder(y_prev, hidden, enc_out, src_mask)\n",
        "            logits_all.append(logits_t.unsqueeze(1))\n",
        "            y_prev = tgt_in[:, t] if random.random() < teacher_forcing_ratio else logits_t.argmax(dim=-1)\n",
        "        return torch.cat(logits_all, dim=1)\n",
        "\n",
        "    @torch.no_grad()\n",
        "    def translate(self, src, src_valid_len, max_len=30):\n",
        "        # MODO AVALIAÇÃO\n",
        "        self.eval()\n",
        "        enc_out, enc_h = self.encoder(src, src_valid_len)          # (B, T_enc, H)\n",
        "        src_mask = self.make_src_mask(src_valid_len, enc_out.size(1))\n",
        "        B = src.size(0)\n",
        "        hidden = enc_h\n",
        "        y_prev = torch.full((B,), self.bos_idx, dtype=torch.long, device=src.device)\n",
        "        outputs = [[] for _ in range(B)]\n",
        "        for _ in range(max_len):\n",
        "            logits_t, hidden, _ = self.decoder(y_prev, hidden, enc_out, src_mask)\n",
        "            y_prev = logits_t.argmax(dim=-1)\n",
        "            for i in range(B):\n",
        "                outputs[i].append(int(y_prev[i].item()))\n",
        "        return outputs  # listas de ids (sem <bos>), possivelmente contendo <eos>"
      ],
      "id": "Rz8UhJQ9JFTG"
    },
    {
      "cell_type": "markdown",
      "metadata": {
        "id": "BBsLYCYzJFTH"
      },
      "source": [
        "## 4) Funções de treino, validação e métricas (Accuracy e BLEU‑4)"
      ],
      "id": "BBsLYCYzJFTH"
    },
    {
      "cell_type": "code",
      "metadata": {
        "id": "H5rhyFwWJFTI"
      },
      "execution_count": 19,
      "outputs": [],
      "source": [
        "def token_accuracy_from_logits(logits, targets, pad_idx):\n",
        "    preds = logits.argmax(dim=-1)\n",
        "    mask = targets != pad_idx\n",
        "    correct = (preds == targets) & mask\n",
        "    return correct.sum().item() / mask.sum().item()\n",
        "\n",
        "def compute_bleu(candidate, reference, eos_idx, max_n=4):\n",
        "    def cut_eos(seq, eos):\n",
        "        return seq[:seq.index(eos)] if eos in seq else seq\n",
        "    cand = cut_eos(candidate, eos_idx)\n",
        "    ref  = cut_eos(reference, eos_idx)\n",
        "    if len(cand) == 0:\n",
        "        return 0.0\n",
        "    bp = 1.0 if len(cand) > len(ref) else math.exp(1 - len(ref)/max(1, len(cand)))\n",
        "    precisions = []\n",
        "    for n in range(1, max_n+1):\n",
        "        def ngrams(seq, n):\n",
        "            return [tuple(seq[i:i+n]) for i in range(len(seq)-n+1)]\n",
        "        cand_ngrams = collections.Counter(ngrams(cand, n))\n",
        "        ref_ngrams  = collections.Counter(ngrams(ref, n))\n",
        "        overlap = sum((cand_ngrams & ref_ngrams).values())\n",
        "        total = max(1, sum(cand_ngrams.values()))\n",
        "        precisions.append(overlap/total)\n",
        "    if min(precisions) == 0:\n",
        "        return 0.0\n",
        "    return bp * math.exp(sum(math.log(p) for p in precisions)/max_n)\n",
        "\n",
        "def make_tgt_in_out(tgt, pad_idx, bos_idx):\n",
        "    B, T = tgt.shape\n",
        "    bos_col = torch.full((B, 1), bos_idx, dtype=torch.long, device=tgt.device)\n",
        "    tgt_in  = torch.cat([bos_col, tgt[:, :-1]], dim=1)\n",
        "    tgt_out = tgt.clone()\n",
        "    return tgt_in, tgt_out\n",
        "\n",
        "def train_epoch(model, loader, optimizer, criterion, pad_idx, teacher_forcing_ratio=0.5):\n",
        "    model.train()\n",
        "    total_loss, total_acc, total_samples = 0.0, 0.0, 0\n",
        "    for X, X_len, Y, Y_len in loader:\n",
        "        X, X_len, Y = X.to(DEVICE), X_len.to(DEVICE), Y.to(DEVICE)\n",
        "        tgt_in, tgt_out = make_tgt_in_out(Y, pad_idx, BOS_IDX)\n",
        "        optimizer.zero_grad()\n",
        "        logits = model(X, X_len, tgt_in, teacher_forcing_ratio)\n",
        "        loss = criterion(logits.reshape(-1, logits.size(-1)), tgt_out[:, 1:].reshape(-1))\n",
        "        loss.backward()\n",
        "        torch.nn.utils.clip_grad_norm_(model.parameters(), 1.0)\n",
        "        optimizer.step()\n",
        "        acc = token_accuracy_from_logits(logits, tgt_out[:, 1:], pad_idx)\n",
        "        total_loss   += loss.item() * X.size(0)\n",
        "        total_acc    += acc * X.size(0)\n",
        "        total_samples += X.size(0)\n",
        "    return total_loss / total_samples, total_acc / total_samples\n",
        "\n",
        "@torch.no_grad()\n",
        "def evaluate(model, loader, criterion, pad_idx, eos_idx, sample_bleu_batches=2):\n",
        "    model.eval()\n",
        "    total_loss, total_acc, total_samples = 0.0, 0.0, 0\n",
        "    bleu_scores = []\n",
        "    for bidx, (X, X_len, Y, Y_len) in enumerate(loader):\n",
        "        X, X_len, Y = X.to(DEVICE), X_len.to(DEVICE), Y.to(DEVICE)\n",
        "        tgt_in, tgt_out = make_tgt_in_out(Y, pad_idx, BOS_IDX)\n",
        "        logits = model(X, X_len, tgt_in, teacher_forcing_ratio=0.0)\n",
        "        loss   = criterion(logits.reshape(-1, logits.size(-1)), tgt_out[:, 1:].reshape(-1))\n",
        "        acc    = token_accuracy_from_logits(logits, tgt_out[:, 1:], pad_idx)\n",
        "        total_loss   += loss.item() * X.size(0)\n",
        "        total_acc    += acc * X.size(0)\n",
        "        total_samples += X.size(0)\n",
        "        if bidx < sample_bleu_batches:\n",
        "            outs = model.translate(X, X_len, max_len=Y.size(1))\n",
        "            for i in range(Y.size(0)):\n",
        "                bleu_scores.append(compute_bleu(outs[i], Y[i].tolist(), eos_idx=eos_idx, max_n=4))\n",
        "    bleu = float(np.mean(bleu_scores)) if bleu_scores else 0.0\n",
        "    return total_loss / total_samples, total_acc / total_samples, bleu"
      ],
      "id": "H5rhyFwWJFTI"
    },
    {
      "cell_type": "markdown",
      "metadata": {
        "id": "orv0S4fGJFTI"
      },
      "source": [
        "## 5) Hiperparâmetros, dados de treino/val e instância do modelo"
      ],
      "id": "orv0S4fGJFTI"
    },
    {
      "cell_type": "code",
      "metadata": {
        "colab": {
          "base_uri": "https://localhost:8080/"
        },
        "id": "vhJUPcZQJFTJ",
        "outputId": "ad8c05a8-ca2d-4f5a-cdc4-7072b248601b"
      },
      "execution_count": 20,
      "outputs": [
        {
          "output_type": "stream",
          "name": "stdout",
          "text": [
            "|SRC|= 755 |TGT|= 1018 PAD= 0 BOS= 1 EOS= 2\n"
          ]
        }
      ],
      "source": [
        "BATCH_SIZE     = 64\n",
        "NUM_STEPS      = 12\n",
        "NUM_EXAMPLES   = 4000   # aumente para mais qualidade (e mais tempo)\n",
        "VAL_FRACTION   = 0.1\n",
        "\n",
        "EMBED_SIZE     = 128\n",
        "HIDDEN_SIZE    = 256\n",
        "NUM_LAYERS     = 1\n",
        "DROPOUT        = 0.1\n",
        "\n",
        "EPOCHS         = 6\n",
        "LR             = 1e-3\n",
        "TEACHER_FORCING= 0.5\n",
        "USE_ATTENTION  = True\n",
        "\n",
        "train_iter_full, SRC_VOCAB, TGT_VOCAB = load_data_nmt(BATCH_SIZE, NUM_STEPS, NUM_EXAMPLES)\n",
        "PAD_IDX = SRC_VOCAB['<pad>']\n",
        "BOS_IDX = TGT_VOCAB['<bos>']\n",
        "EOS_IDX = TGT_VOCAB['<eos>']\n",
        "print('|SRC|=', len(SRC_VOCAB), '|TGT|=', len(TGT_VOCAB), 'PAD=', PAD_IDX, 'BOS=', BOS_IDX, 'EOS=', EOS_IDX)\n",
        "\n",
        "full_ds = train_iter_full.dataset\n",
        "N = len(full_ds)\n",
        "n_val = int(VAL_FRACTION * N)\n",
        "n_train = N - n_val\n",
        "train_ds, val_ds = random_split(full_ds, [n_train, n_val], generator=torch.Generator().manual_seed(42))\n",
        "train_iter = DataLoader(train_ds, batch_size=BATCH_SIZE, shuffle=True)\n",
        "val_iter   = DataLoader(val_ds, batch_size=BATCH_SIZE, shuffle=False)\n",
        "\n",
        "encoder = Encoder(len(SRC_VOCAB), EMBED_SIZE, HIDDEN_SIZE, num_layers=NUM_LAYERS, dropout=DROPOUT, pad_idx=PAD_IDX)\n",
        "decoder = Decoder(len(TGT_VOCAB), EMBED_SIZE, HIDDEN_SIZE, num_layers=NUM_LAYERS, dropout=DROPOUT,\n",
        "                  pad_idx=PAD_IDX, use_attention=USE_ATTENTION)\n",
        "model = Seq2Seq(encoder, decoder, BOS_IDX, EOS_IDX, PAD_IDX).to(DEVICE)\n",
        "\n",
        "criterion = nn.CrossEntropyLoss(ignore_index=PAD_IDX)\n",
        "optimizer = torch.optim.Adam(model.parameters(), lr=LR)"
      ],
      "id": "vhJUPcZQJFTJ"
    },
    {
      "cell_type": "markdown",
      "metadata": {
        "id": "Tf33d50gJFTJ"
      },
      "source": [
        "## 6) Treinamento e validação com logging de métricas"
      ],
      "id": "Tf33d50gJFTJ"
    },
    {
      "cell_type": "code",
      "metadata": {
        "colab": {
          "base_uri": "https://localhost:8080/"
        },
        "id": "JofKkvryJFTJ",
        "outputId": "4dd60e2c-8b29-4e7e-baf2-65ed852efeed"
      },
      "execution_count": 21,
      "outputs": [
        {
          "output_type": "stream",
          "name": "stdout",
          "text": [
            "Epoch 01 | train_loss=3.9354 acc=0.320 | val_loss=3.3546 acc=0.370 bleu4=0.000\n",
            "Epoch 02 | train_loss=3.1311 acc=0.408 | val_loss=3.1033 acc=0.408 bleu4=0.000\n",
            "Epoch 03 | train_loss=2.8222 acc=0.463 | val_loss=2.9267 acc=0.451 bleu4=0.000\n",
            "Epoch 04 | train_loss=2.5382 acc=0.510 | val_loss=2.7253 acc=0.488 bleu4=0.000\n",
            "Epoch 05 | train_loss=2.2864 acc=0.542 | val_loss=2.5982 acc=0.507 bleu4=0.000\n",
            "Epoch 06 | train_loss=2.0554 acc=0.572 | val_loss=2.4690 acc=0.502 bleu4=0.000\n"
          ]
        }
      ],
      "source": [
        "history = {'train_loss': [], 'train_acc': [], 'val_loss': [], 'val_acc': [], 'val_bleu': []}\n",
        "\n",
        "for epoch in range(1, EPOCHS + 1):\n",
        "    tr_loss, tr_acc = train_epoch(model, train_iter, optimizer, criterion, PAD_IDX, TEACHER_FORCING)\n",
        "    val_loss, val_acc, val_bleu = evaluate(model, val_iter, criterion, PAD_IDX, EOS_IDX, sample_bleu_batches=3)\n",
        "    history['train_loss'].append(tr_loss)\n",
        "    history['train_acc'].append(tr_acc)\n",
        "    history['val_loss'].append(val_loss)\n",
        "    history['val_acc'].append(val_acc)\n",
        "    history['val_bleu'].append(val_bleu)\n",
        "    print(f'Epoch {epoch:02d} | train_loss={tr_loss:.4f} acc={tr_acc:.3f} | val_loss={val_loss:.4f} acc={val_acc:.3f} bleu4={val_bleu:.3f}')"
      ],
      "id": "JofKkvryJFTJ"
    },
    {
      "cell_type": "markdown",
      "metadata": {
        "id": "E76nntIAJFTJ"
      },
      "source": [
        "## 7) Gráficos das métricas (sem subplots, sem cores explícitas)"
      ],
      "id": "E76nntIAJFTJ"
    },
    {
      "cell_type": "code",
      "metadata": {
        "colab": {
          "base_uri": "https://localhost:8080/",
          "height": 1000
        },
        "id": "anp_jYrMJFTK",
        "outputId": "51af0f16-e8a2-4737-ce8c-492d628a3aae"
      },
      "execution_count": 22,
      "outputs": [
        {
          "output_type": "display_data",
          "data": {
            "text/plain": [
              "<Figure size 640x480 with 1 Axes>"
            ],
            "image/png": "[encoded data removed]"
          },
          "metadata": {}
        },
        {
          "output_type": "display_data",
          "data": {
            "text/plain": [
              "<Figure size 640x480 with 1 Axes>"
            ],
            "image/png": "[encoded data removed]"
          },
          "metadata": {}
        },
        {
          "output_type": "display_data",
          "data": {
            "text/plain": [
              "<Figure size 640x480 with 1 Axes>"
            ],
            "image/png": "[encoded data removed]"
          },
          "metadata": {}
        }
      ],
      "source": [
        "# Loss\n",
        "plt.figure()\n",
        "plt.plot(history['train_loss'], label='train_loss')\n",
        "plt.plot(history['val_loss'], label='val_loss')\n",
        "plt.title('Loss')\n",
        "plt.legend()\n",
        "plt.show()\n",
        "\n",
        "# Token Accuracy\n",
        "plt.figure()\n",
        "plt.plot(history['train_acc'], label='train_acc')\n",
        "plt.plot(history['val_acc'], label='val_acc')\n",
        "plt.title('Token Accuracy')\n",
        "plt.legend()\n",
        "plt.show()\n",
        "\n",
        "# BLEU-4 (val)\n",
        "plt.figure()\n",
        "plt.plot(history['val_bleu'], label='val_bleu4')\n",
        "plt.title('BLEU-4 (validação)')\n",
        "plt.legend()\n",
        "plt.show()"
      ],
      "id": "anp_jYrMJFTK"
    },
    {
      "cell_type": "markdown",
      "metadata": {
        "id": "v6QsyBZSJFTK"
      },
      "source": [
        "## 8) Inferência: traduzindo frases de exemplo"
      ],
      "id": "v6QsyBZSJFTK"
    },
    {
      "cell_type": "code",
      "metadata": {
        "colab": {
          "base_uri": "https://localhost:8080/"
        },
        "id": "M9tiqePYJFTK",
        "outputId": "a3071cb1-8477-467a-9d23-b6ef90977376"
      },
      "execution_count": 23,
      "outputs": [
        {
          "output_type": "stream",
          "name": "stdout",
          "text": [
            "SRC: go .\n",
            "PRED: !\n",
            "---\n",
            "SRC: i am here .\n",
            "PRED: suis .\n",
            "---\n",
            "SRC: she is a student .\n",
            "PRED: un <unk> .\n",
            "---\n"
          ]
        }
      ],
      "source": [
        "id2tgt = TGT_VOCAB.to_tokens\n",
        "\n",
        "def translate_sentence(model, sentence_tokens, src_vocab, num_steps=NUM_STEPS, eos_idx=EOS_IDX):\n",
        "    model.eval()\n",
        "    with torch.no_grad():\n",
        "        ids = torch.tensor(\n",
        "            [ truncate_pad(src_vocab[sentence_tokens] + [src_vocab['<eos>']], num_steps, src_vocab['<pad>']) ],\n",
        "            device=DEVICE\n",
        "        )\n",
        "        valid_len = torch.tensor([min(len(sentence_tokens)+1, num_steps)], device=DEVICE)\n",
        "        out_ids = model.translate(ids, valid_len, max_len=num_steps)[0]\n",
        "        if eos_idx in out_ids:\n",
        "            out_ids = out_ids[:out_ids.index(eos_idx)]\n",
        "        return [id2tgt(i) for i in out_ids]\n",
        "\n",
        "examples = [\n",
        "    ['go', '.'],\n",
        "    ['i', 'am', 'here', '.'],\n",
        "    ['she', 'is', 'a', 'student', '.'],\n",
        "]\n",
        "for ex in examples:\n",
        "    print('SRC:', ' '.join(ex))\n",
        "    print('PRED:', ' '.join(translate_sentence(model, ex, SRC_VOCAB)))\n",
        "    print('---')"
      ],
      "id": "M9tiqePYJFTK"
    }
  ]
}